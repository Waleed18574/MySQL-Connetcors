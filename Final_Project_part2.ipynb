{
 "cells": [
  {
   "cell_type": "markdown",
   "id": "5e6f8b08",
   "metadata": {},
   "source": [
    "# Little Lemon analysis and sales report"
   ]
  },
  {
   "cell_type": "markdown",
   "id": "ee76e8ee",
   "metadata": {},
   "source": [
    "## importing Required Libraries"
   ]
  },
  {
   "cell_type": "code",
   "execution_count": 1,
   "id": "885c8b03",
   "metadata": {},
   "outputs": [],
   "source": [
    "import mysql.connector\n",
    "from mysql.connector import Error\n",
    "import pandas as pd"
   ]
  },
  {
   "cell_type": "markdown",
   "id": "28b9bf2a",
   "metadata": {},
   "source": [
    "## Conecting to MySQL Server"
   ]
  },
  {
   "cell_type": "code",
   "execution_count": 2,
   "id": "bfb99bb1",
   "metadata": {},
   "outputs": [
    {
     "name": "stdout",
     "output_type": "stream",
     "text": [
      "MySQL Server connection successful\n"
     ]
    }
   ],
   "source": [
    "def make_server_connection(host_name, user_name, user_password):\n",
    "    connection = None\n",
    "    try:\n",
    "        connection = mysql.connector.connect(\n",
    "            host=host_name,\n",
    "            user=user_name,\n",
    "            passwd=user_password\n",
    "        )\n",
    "        print(\"MySQL Server connection successful\")\n",
    "    except Error as err:\n",
    "        print(f\"Error: '{err}'\")\n",
    "\n",
    "    return connection\n",
    "\n",
    "host_name = \"localhost\"\n",
    "user_name = \"waleed\"\n",
    "user_password = \"Waleed@18574\" \n",
    "\n",
    "\n",
    "connection = make_server_connection(host_name, user_name, user_password)"
   ]
  },
  {
   "cell_type": "markdown",
   "id": "79410003",
   "metadata": {},
   "source": [
    "## Use Database"
   ]
  },
  {
   "cell_type": "code",
   "execution_count": 3,
   "id": "292de9c4",
   "metadata": {},
   "outputs": [],
   "source": [
    "cursor = connection.cursor()\n",
    "cursor.execute(\"USE little_lemon_db\")"
   ]
  },
  {
   "cell_type": "markdown",
   "id": "573f1e35",
   "metadata": {},
   "source": [
    "## Task 1: Establish a connection "
   ]
  },
  {
   "cell_type": "code",
   "execution_count": 4,
   "id": "6220d00f",
   "metadata": {},
   "outputs": [],
   "source": [
    "from mysql.connector.pooling import MySQLConnectionPool\n",
    "from mysql.connector import Error\n",
    "from mysql.connector import PoolError"
   ]
  },
  {
   "cell_type": "code",
   "execution_count": 5,
   "id": "3b5f5c66",
   "metadata": {},
   "outputs": [
    {
     "name": "stdout",
     "output_type": "stream",
     "text": [
      "Connection pool 'pool_b' created successfully with 2 connections.\n"
     ]
    }
   ],
   "source": [
    "# Define the database configuration as a dictionary for use in the connection pool.\n",
    "dbconfig = {\n",
    "    \"database\": \"little_lemon_db\",\n",
    "    \"user\": \"waleed\",\n",
    "    \"password\": \"Waleed@18574\"\n",
    "}\n",
    "\n",
    "# Try to create a connection pool named 'pool_b' with 2 connections using the dbconfig \n",
    "# settings.\n",
    "\n",
    "try:\n",
    "    pool_b = MySQLConnectionPool(pool_name=\"pool_b\", pool_size=2, **dbconfig)\n",
    "    print(\"Connection pool 'pool_b' created successfully with 2 connections.\")\n",
    "except Error as err:\n",
    "    print(f\"Error: {err}\")"
   ]
  },
  {
   "cell_type": "code",
   "execution_count": 13,
   "id": "5d7e9544",
   "metadata": {},
   "outputs": [],
   "source": [
    "# # Get a connection from the pool and assign it to connection_1\n",
    "# connection_1 = pool_b.get_connection()\n",
    "# print(\"connection_1 acquired from pool_b.\")"
   ]
  },
  {
   "cell_type": "markdown",
   "id": "37832cdc",
   "metadata": {},
   "source": [
    "## Task 2"
   ]
  },
  {
   "cell_type": "code",
   "execution_count": 6,
   "id": "db752b94",
   "metadata": {},
   "outputs": [
    {
     "name": "stdout",
     "output_type": "stream",
     "text": [
      "Guest 1 booking inserted successfully.\n",
      "Guest 2 booking inserted successfully.\n",
      "PoolError for Guest 3: Failed getting connection; pool exhausted\n",
      "Connection 1 returned to pool.\n",
      "Connection 2 returned to pool.\n"
     ]
    }
   ],
   "source": [
    "# Guest booking data\n",
    "guests = [\n",
    "    (8, \"Anees\", \"Java\", \"18:00:00\", 6),\n",
    "    (5, \"Bald\", \"Vin\", \"19:00:00\", 6),\n",
    "    (12, \"Jay\", \"Kon\", \"19:30:00\", 6)\n",
    "]\n",
    "\n",
    "connections = []\n",
    "cursors = []\n",
    "\n",
    "# Try to get three connections from the pool and insert bookings\n",
    "for i, guest in enumerate(guests):\n",
    "    try:\n",
    "        connection = pool_b.get_connection()\n",
    "        connections.append(connection)\n",
    "        cursor = connection.cursor()\n",
    "        cursors.append(cursor)\n",
    "        insert_query = \"\"\"\n",
    "            INSERT INTO Bookings (TableNo, GuestFirstName, GuestLastName, BookingSlot, EmployeeID)\n",
    "            VALUES (%s, %s, %s, %s, %s)\n",
    "        \"\"\"\n",
    "        cursor.execute(insert_query, guest)\n",
    "        connection.commit()\n",
    "        print(f\"Guest {i+1} booking inserted successfully.\")\n",
    "    except PoolError as pe:\n",
    "        print(f\"PoolError for Guest {i+1}: {pe}\")\n",
    "    except Error as err:\n",
    "        print(f\"Error for Guest {i+1}: {err}\")\n",
    "\n",
    "# Return connections to the pool (only two can be returned)\n",
    "for i, connection in enumerate(connections):\n",
    "    try:\n",
    "        connection.close()\n",
    "        print(f\"Connection {i+1} returned to pool.\")\n",
    "    except PoolError as pe:\n",
    "        print(f\"PoolError when returning connection {i+1}: {pe}\")"
   ]
  },
  {
   "cell_type": "code",
   "execution_count": 7,
   "id": "aca65f0f",
   "metadata": {},
   "outputs": [
    {
     "name": "stdout",
     "output_type": "stream",
     "text": [
      "Third guest booking inserted successfully.\n",
      "Connection returned to pool.\n"
     ]
    }
   ],
   "source": [
    "# Now that the previous two connections have been returned to the pool,\n",
    "# get a new connection from pool_b and insert the third guest booking.\n",
    "\n",
    "third_guest = (12, \"Jay\", \"Kon\", \"19:30:00\", 6)\n",
    "\n",
    "try:\n",
    "    connection = pool_b.get_connection()\n",
    "    cursor = connection.cursor()\n",
    "    insert_query = \"\"\"\n",
    "        INSERT INTO Bookings (TableNo, GuestFirstName, GuestLastName, BookingSlot, EmployeeID)\n",
    "        VALUES (%s, %s, %s, %s, %s)\n",
    "    \"\"\"\n",
    "    cursor.execute(insert_query, third_guest)\n",
    "    connection.commit()\n",
    "    print(\"Third guest booking inserted successfully.\")\n",
    "    connection.close()\n",
    "    print(\"Connection returned to pool.\")\n",
    "except PoolError as pe:\n",
    "    print(f\"PoolError for third guest: {pe}\")\n",
    "except Error as err:\n",
    "    print(f\"Error for third guest: {err}\")"
   ]
  },
  {
   "cell_type": "code",
   "execution_count": null,
   "id": "a1cd5ca4",
   "metadata": {},
   "outputs": [
    {
     "data": {
      "text/html": [
       "<div>\n",
       "<style scoped>\n",
       "    .dataframe tbody tr th:only-of-type {\n",
       "        vertical-align: middle;\n",
       "    }\n",
       "\n",
       "    .dataframe tbody tr th {\n",
       "        vertical-align: top;\n",
       "    }\n",
       "\n",
       "    .dataframe thead th {\n",
       "        text-align: right;\n",
       "    }\n",
       "</style>\n",
       "<table border=\"1\" class=\"dataframe\">\n",
       "  <thead>\n",
       "    <tr style=\"text-align: right;\">\n",
       "      <th></th>\n",
       "      <th>BookingID</th>\n",
       "      <th>TableNo</th>\n",
       "      <th>GuestFirstName</th>\n",
       "      <th>GuestLastName</th>\n",
       "      <th>BookingSlot</th>\n",
       "      <th>EmployeeID</th>\n",
       "    </tr>\n",
       "  </thead>\n",
       "  <tbody>\n",
       "    <tr>\n",
       "      <th>0</th>\n",
       "      <td>1</td>\n",
       "      <td>12</td>\n",
       "      <td>Anna</td>\n",
       "      <td>Iversen</td>\n",
       "      <td>0 days 19:00:00</td>\n",
       "      <td>1</td>\n",
       "    </tr>\n",
       "    <tr>\n",
       "      <th>1</th>\n",
       "      <td>2</td>\n",
       "      <td>12</td>\n",
       "      <td>Joakim</td>\n",
       "      <td>Iversen</td>\n",
       "      <td>0 days 19:00:00</td>\n",
       "      <td>1</td>\n",
       "    </tr>\n",
       "    <tr>\n",
       "      <th>2</th>\n",
       "      <td>3</td>\n",
       "      <td>19</td>\n",
       "      <td>Vanessa</td>\n",
       "      <td>McCarthy</td>\n",
       "      <td>0 days 15:00:00</td>\n",
       "      <td>3</td>\n",
       "    </tr>\n",
       "    <tr>\n",
       "      <th>3</th>\n",
       "      <td>4</td>\n",
       "      <td>15</td>\n",
       "      <td>Marcos</td>\n",
       "      <td>Romero</td>\n",
       "      <td>0 days 17:30:00</td>\n",
       "      <td>4</td>\n",
       "    </tr>\n",
       "    <tr>\n",
       "      <th>4</th>\n",
       "      <td>5</td>\n",
       "      <td>5</td>\n",
       "      <td>Hiroki</td>\n",
       "      <td>Yamane</td>\n",
       "      <td>0 days 18:30:00</td>\n",
       "      <td>2</td>\n",
       "    </tr>\n",
       "    <tr>\n",
       "      <th>5</th>\n",
       "      <td>6</td>\n",
       "      <td>8</td>\n",
       "      <td>Diana</td>\n",
       "      <td>Pinto</td>\n",
       "      <td>0 days 20:00:00</td>\n",
       "      <td>5</td>\n",
       "    </tr>\n",
       "    <tr>\n",
       "      <th>6</th>\n",
       "      <td>7</td>\n",
       "      <td>8</td>\n",
       "      <td>Anees</td>\n",
       "      <td>Java</td>\n",
       "      <td>0 days 18:00:00</td>\n",
       "      <td>6</td>\n",
       "    </tr>\n",
       "    <tr>\n",
       "      <th>7</th>\n",
       "      <td>8</td>\n",
       "      <td>5</td>\n",
       "      <td>Bald</td>\n",
       "      <td>Vin</td>\n",
       "      <td>0 days 19:00:00</td>\n",
       "      <td>6</td>\n",
       "    </tr>\n",
       "    <tr>\n",
       "      <th>8</th>\n",
       "      <td>9</td>\n",
       "      <td>12</td>\n",
       "      <td>Jay</td>\n",
       "      <td>Kon</td>\n",
       "      <td>0 days 19:30:00</td>\n",
       "      <td>6</td>\n",
       "    </tr>\n",
       "  </tbody>\n",
       "</table>\n",
       "</div>"
      ],
      "text/plain": [
       "   BookingID  TableNo GuestFirstName GuestLastName     BookingSlot  EmployeeID\n",
       "0          1       12           Anna       Iversen 0 days 19:00:00           1\n",
       "1          2       12         Joakim       Iversen 0 days 19:00:00           1\n",
       "2          3       19        Vanessa      McCarthy 0 days 15:00:00           3\n",
       "3          4       15         Marcos        Romero 0 days 17:30:00           4\n",
       "4          5        5         Hiroki        Yamane 0 days 18:30:00           2\n",
       "5          6        8          Diana         Pinto 0 days 20:00:00           5\n",
       "6          7        8          Anees          Java 0 days 18:00:00           6\n",
       "7          8        5           Bald           Vin 0 days 19:00:00           6\n",
       "8          9       12            Jay           Kon 0 days 19:30:00           6"
      ]
     },
     "execution_count": 23,
     "metadata": {},
     "output_type": "execute_result"
    }
   ],
   "source": [
    "cursor.execute(\"SELECT * FROM Bookings\")\n",
    "bookings = cursor.fetchall()\n",
    "bookings_df = pd.DataFrame(bookings, columns=[i[0] for i in cursor.description])\n",
    "bookings_df"
   ]
  },
  {
   "cell_type": "markdown",
   "id": "79cf2bf1",
   "metadata": {},
   "source": [
    "## Task 3"
   ]
  },
  {
   "cell_type": "markdown",
   "id": "4869e27f",
   "metadata": {},
   "source": [
    "### Name and EmployeeID of the Little Lemon manager"
   ]
  },
  {
   "cell_type": "code",
   "execution_count": 8,
   "id": "2fdfa6d6",
   "metadata": {},
   "outputs": [
    {
     "name": "stdout",
     "output_type": "stream",
     "text": [
      "('EmployeeID', 'Name', 'Role', 'Address', 'Contact_Number', 'Email', 'Annual_Salary')\n",
      "(1, 'Mario Gollini', 'Manager', '724, Parsley Lane, Old Town, Chicago, IL', 351258074, 'Mario.g@littlelemon.com', '$70,000')\n"
     ]
    }
   ],
   "source": [
    "connection = pool_b.get_connection()\n",
    "cursor = connection.cursor()\n",
    "\n",
    "# Fetch all records from the Bookings table and display them as a DataFrame\n",
    "\n",
    "query1 = \"SELECT * FROM Employees WHERE Role = 'Manager'\"\n",
    "cursor.execute(query1)\n",
    "results = cursor.fetchall()\n",
    "\n",
    "print(cursor.column_names)\n",
    "for row in results:\n",
    "    print(row)"
   ]
  },
  {
   "cell_type": "markdown",
   "id": "c9953b47",
   "metadata": {},
   "source": [
    "### Name and Role of the Employee with the Highest Salary"
   ]
  },
  {
   "cell_type": "code",
   "execution_count": 9,
   "id": "51b8a826",
   "metadata": {},
   "outputs": [
    {
     "name": "stdout",
     "output_type": "stream",
     "text": [
      "('Name', 'Role')\n",
      "('Mario Gollini', 'Manager')\n"
     ]
    }
   ],
   "source": [
    "# Query to get the name and role of the employee with the highest salary\n",
    "query2 = \"\"\"\n",
    "SELECT Name, Role\n",
    "FROM Employees\n",
    "ORDER BY CAST(REPLACE(REPLACE(Annual_Salary, '$', ''), ',', '') AS UNSIGNED) DESC\n",
    "LIMIT 1;\n",
    "\"\"\"\n",
    "\n",
    "cursor.execute(query2)\n",
    "result = cursor.fetchone()\n",
    "# print(\"Name:\", result[0])\n",
    "# print(\"Role:\", result[1])\n",
    "print(cursor.column_names)\n",
    "print(result)\n"
   ]
  },
  {
   "cell_type": "markdown",
   "id": "bfc177d9",
   "metadata": {},
   "source": [
    "### Number of Guests Booked Between 18:00 and 20:00"
   ]
  },
  {
   "cell_type": "code",
   "execution_count": 10,
   "id": "aa88f03d",
   "metadata": {},
   "outputs": [
    {
     "name": "stdout",
     "output_type": "stream",
     "text": [
      "Number of guests booked between 18:00 and 20:00: 7 guests\n"
     ]
    }
   ],
   "source": [
    "# Query to get the number of guests booked between 18:00 and 20:00\n",
    "query3 = \"\"\"\n",
    "SELECT COUNT(*) AS num_guests\n",
    "FROM Bookings\n",
    "WHERE BookingSlot BETWEEN '18:00:00' AND '20:00:00';\n",
    "\"\"\"\n",
    "\n",
    "cursor.execute(query3)\n",
    "result = cursor.fetchone()\n",
    "print(\"Number of guests booked between 18:00 and 20:00:\", result[0], \"guests\")"
   ]
  },
  {
   "cell_type": "markdown",
   "id": "927f032a",
   "metadata": {},
   "source": [
    "## Full Name and BookingID of all guests waiting to be Seated"
   ]
  },
  {
   "cell_type": "code",
   "execution_count": 11,
   "id": "f6d0bb6c",
   "metadata": {},
   "outputs": [
    {
     "name": "stdout",
     "output_type": "stream",
     "text": [
      "('full_name', 'BookingID')\n",
      "('Anees Java', 7)\n",
      "('Bald Vin', 8)\n",
      "('Jay Kon', 9)\n"
     ]
    }
   ],
   "source": [
    "# Query to get the full name and BookingID of all guests waiting to be seated with the receptionist,\n",
    "# sorted by their BookingSlot\n",
    "\n",
    "query4 = \"\"\"\n",
    "SELECT \n",
    "    CONCAT(GuestFirstName, ' ', GuestLastName) AS full_name,\n",
    "    BookingID\n",
    "FROM Bookings\n",
    "WHERE EmployeeID = (\n",
    "    SELECT EmployeeID FROM Employees WHERE Role = 'Receptionist'\n",
    ")\n",
    "ORDER BY BookingSlot;\n",
    "\"\"\"\n",
    "\n",
    "cursor.execute(query4)\n",
    "results = cursor.fetchall()\n",
    "# print(\"Full Name | BookingID\")\n",
    "# for row in results:\n",
    "#     print(row[0], \"|\", row[1])\n",
    "print(cursor.column_names)\n",
    "for row in results:\n",
    "    print(row)"
   ]
  },
  {
   "cell_type": "markdown",
   "id": "7dbe8d82",
   "metadata": {},
   "source": [
    "## Task 4"
   ]
  },
  {
   "cell_type": "code",
   "execution_count": 12,
   "id": "f9803b3e",
   "metadata": {},
   "outputs": [
    {
     "name": "stdout",
     "output_type": "stream",
     "text": [
      "  total_sales average_sale  minimum_bill_paid  maximum_bill_paid\n",
      "0         243      48.6000                 37                 86\n"
     ]
    },
    {
     "name": "stderr",
     "output_type": "stream",
     "text": [
      "/tmp/ipykernel_3137/4113673372.py:34: DeprecationWarning: Call to deprecated function stored_results. Reason: The property counterpart 'stored_results' will be added in a future release, and this method will be removed.\n",
      "  for result in cursor.stored_results():\n"
     ]
    }
   ],
   "source": [
    "# Create the BasicSalesReport stored procedure\n",
    "basic_sales_report_proc = \"\"\"\n",
    "CREATE PROCEDURE BasicSalesReport()\n",
    "BEGIN\n",
    "    SELECT\n",
    "        SUM(BillAmount) AS total_sales,\n",
    "        AVG(BillAmount) AS average_sale,\n",
    "        MIN(BillAmount) AS minimum_bill_paid,\n",
    "        MAX(BillAmount) AS maximum_bill_paid\n",
    "    FROM Orders;\n",
    "END\n",
    "\"\"\"\n",
    "\n",
    "\n",
    "# Drop the procedure if it exists\n",
    "cursor.execute(\"DROP PROCEDURE IF EXISTS BasicSalesReport\")\n",
    "\n",
    "# Create the procedure\n",
    "cursor.execute(basic_sales_report_proc)\n",
    "\n",
    "# Call the stored procedure\n",
    "cursor.callproc('BasicSalesReport')\n",
    "\n",
    "# # Fetch and print results\n",
    "# for result in cursor.stored_results():\n",
    "#     dataset = result.fetchall()\n",
    "#     columns = [desc[0] for desc in result.description]\n",
    "#     print(columns)\n",
    "#     for row in dataset:\n",
    "#         print(row)\n",
    "\n",
    "\n",
    "# Fetch and print results as a DataFrame\n",
    "for result in cursor.stored_results():\n",
    "    dataset = result.fetchall()\n",
    "    columns = [desc[0] for desc in result.description]\n",
    "    df = pd.DataFrame(dataset, columns=columns)\n",
    "    print(df)\n",
    "\n"
   ]
  },
  {
   "cell_type": "code",
   "execution_count": 24,
   "id": "b97ed7eb",
   "metadata": {},
   "outputs": [],
   "source": [
    "cursor.close()\n",
    "connection.close()"
   ]
  },
  {
   "cell_type": "markdown",
   "id": "0056eac7",
   "metadata": {},
   "source": [
    "## Task 5"
   ]
  },
  {
   "cell_type": "code",
   "execution_count": 25,
   "id": "455bec1f",
   "metadata": {},
   "outputs": [],
   "source": [
    "connection = pool_b.get_connection()\n",
    "\n",
    "cursor = connection.cursor(buffered = True)"
   ]
  },
  {
   "cell_type": "code",
   "execution_count": 26,
   "id": "1c08353d",
   "metadata": {},
   "outputs": [
    {
     "name": "stdout",
     "output_type": "stream",
     "text": [
      "      BookingSlot        Guest_name                               Assigned_to\n",
      "0 0 days 15:00:00  Vanessa McCarthy  Assigned to: Giorgos Dioudis [Head Chef]\n",
      "1 0 days 17:30:00     Marcos Romero  Assigned to: Fatma Kaya [Assistant Chef]\n",
      "2 0 days 18:00:00        Anees Java   Assigned to: John Millar [Receptionist]\n"
     ]
    }
   ],
   "source": [
    "# Query to get the next three upcoming bookings with guest and assigned employee info\n",
    "query = \"\"\"\n",
    "SELECT \n",
    "    b.BookingSlot,\n",
    "    CONCAT(b.GuestFirstName, ' ', b.GuestLastName) AS Guest_name,\n",
    "    CONCAT('Assigned to: ', e.Name, ' [', e.Role, ']') AS Assigned_to\n",
    "FROM Bookings b\n",
    "LEFT JOIN Employees e ON b.EmployeeID = e.EmployeeID\n",
    "ORDER BY b.BookingSlot ASC\n",
    "LIMIT 3;\n",
    "\"\"\"\n",
    "\n",
    "cursor.execute(query)\n",
    "results = cursor.fetchall()\n",
    "columns = [desc[0] for desc in cursor.description]\n",
    "upcoming_df = pd.DataFrame(results, columns=columns)\n",
    "print(upcoming_df)\n",
    "\n",
    "# Return the connection to the pool\n",
    "cursor.close()\n",
    "connection.close()"
   ]
  }
 ],
 "metadata": {
  "kernelspec": {
   "display_name": "Python 3",
   "language": "python",
   "name": "python3"
  },
  "language_info": {
   "codemirror_mode": {
    "name": "ipython",
    "version": 3
   },
   "file_extension": ".py",
   "mimetype": "text/x-python",
   "name": "python",
   "nbconvert_exporter": "python",
   "pygments_lexer": "ipython3",
   "version": "3.12.1"
  }
 },
 "nbformat": 4,
 "nbformat_minor": 5
}
