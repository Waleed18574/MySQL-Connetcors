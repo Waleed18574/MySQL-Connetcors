{
 "cells": [
  {
   "cell_type": "markdown",
   "id": "5e6f8b08",
   "metadata": {},
   "source": [
    "# Analyzing International Bites Data Part 1: Connection, Setup and Stored Procedures"
   ]
  },
  {
   "cell_type": "markdown",
   "id": "d3daff89",
   "metadata": {},
   "source": [
    "## Section 1: Connection and Setup"
   ]
  },
  {
   "cell_type": "code",
   "execution_count": 1,
   "id": "885c8b03",
   "metadata": {},
   "outputs": [],
   "source": [
    "import mysql.connector\n",
    "from mysql.connector import Error\n",
    "import pandas as pd"
   ]
  },
  {
   "cell_type": "markdown",
   "id": "28b9bf2a",
   "metadata": {},
   "source": [
    "### Conecting to MySQL Server"
   ]
  },
  {
   "cell_type": "code",
   "execution_count": 2,
   "id": "bfb99bb1",
   "metadata": {},
   "outputs": [
    {
     "name": "stdout",
     "output_type": "stream",
     "text": [
      "MySQL Server connection successful\n"
     ]
    }
   ],
   "source": [
    "def make_server_connection(host_name, user_name, user_password):\n",
    "    connection = None\n",
    "    try:\n",
    "        connection = mysql.connector.connect(\n",
    "            host=host_name,\n",
    "            user=user_name,\n",
    "            passwd=user_password\n",
    "        )\n",
    "        print(\"MySQL Server connection successful\")\n",
    "    except Error as err:\n",
    "        print(f\"Error: '{err}'\")\n",
    "\n",
    "    return connection\n",
    "\n",
    "host_name = \"localhost\"\n",
    "user_name = \"waleed\"\n",
    "user_password = \"Waleed@18574\" \n",
    "\n",
    "\n",
    "connection = make_server_connection(host_name, user_name, user_password)"
   ]
  },
  {
   "cell_type": "markdown",
   "id": "ff80cca7",
   "metadata": {},
   "source": [
    "### Dropping Databases"
   ]
  },
  {
   "cell_type": "code",
   "execution_count": 3,
   "id": "6240e942",
   "metadata": {},
   "outputs": [
    {
     "name": "stdout",
     "output_type": "stream",
     "text": [
      "Database dropped successfully\n"
     ]
    }
   ],
   "source": [
    "def drop_database(connection, drop_database_query):\n",
    "    cursor = connection.cursor()\n",
    "    try:\n",
    "        cursor.execute(drop_database_query)\n",
    "        print(\"Database dropped successfully\")\n",
    "    except Error as err:\n",
    "        print(f\"Error: '{err}'\")\n",
    "\n",
    "drop_database_query = \"DROP DATABASE IF EXISTS mediterranean_bites_db \"\n",
    "drop_database(connection, drop_database_query)"
   ]
  },
  {
   "cell_type": "markdown",
   "id": "5e26e1c2",
   "metadata": {},
   "source": [
    "### Add Database"
   ]
  },
  {
   "cell_type": "code",
   "execution_count": 4,
   "id": "59b1ca69",
   "metadata": {},
   "outputs": [
    {
     "name": "stdout",
     "output_type": "stream",
     "text": [
      "Database made successfully\n"
     ]
    }
   ],
   "source": [
    "def make_database(connection, make_database_query):\n",
    "    cursor = connection.cursor()\n",
    "    try:\n",
    "        cursor.execute(make_database_query)\n",
    "        print(\"Database made successfully\")\n",
    "    except Error as err:\n",
    "        print(f\"Error: '{err}'\")\n",
    "\n",
    "make_database_query = \"CREATE DATABASE mediterranean_bites_db\"\n",
    "make_database(connection, make_database_query)"
   ]
  },
  {
   "cell_type": "markdown",
   "id": "79410003",
   "metadata": {},
   "source": [
    "### Use Database"
   ]
  },
  {
   "cell_type": "code",
   "execution_count": 5,
   "id": "292de9c4",
   "metadata": {},
   "outputs": [],
   "source": [
    "cursor = connection.cursor()\n",
    "cursor.execute(\"USE mediterranean_bites_db\")"
   ]
  },
  {
   "cell_type": "markdown",
   "id": "426be08f",
   "metadata": {},
   "source": [
    "### Add Tables"
   ]
  },
  {
   "cell_type": "code",
   "execution_count": 6,
   "id": "a7df27de",
   "metadata": {},
   "outputs": [],
   "source": [
    "#MenuItems table\n",
    "create_menuitem_table = \"\"\"CREATE TABLE MenuItems (\n",
    "ItemID INT AUTO_INCREMENT,\n",
    "Name VARCHAR(200),\n",
    "Type VARCHAR(100),\n",
    "Price INT,\n",
    "PRIMARY KEY (ItemID)\n",
    ");\"\"\"\n",
    "\n",
    "create_menu_table = \"\"\"CREATE TABLE Menus (\n",
    "MenuID INT,\n",
    "ItemID INT,\n",
    "Cuisine VARCHAR(100),\n",
    "PRIMARY KEY (MenuID,ItemID)\n",
    ");\"\"\"\n",
    "\n",
    "Create_booking_table = \"\"\"CREATE TABLE Bookings (\n",
    "BookingID INT AUTO_INCREMENT,\n",
    "TableNo INT,\n",
    "GuestFirstName VARCHAR(100) NOT NULL,\n",
    "GuestLastName VARCHAR(100) NOT NULL,\n",
    "BookingSlot TIME NOT NULL,\n",
    "EmployeeID INT,\n",
    "PRIMARY KEY (BookingID)\n",
    ");\"\"\"\n",
    "\n",
    "create_orders_table = \"\"\"CREATE TABLE Orders (\n",
    "OrderID INT,\n",
    "TableNo INT,\n",
    "MenuID INT,\n",
    "BookingID INT,\n",
    "BillAmount INT,\n",
    "Quantity INT,\n",
    "PRIMARY KEY (OrderID,TableNo)\n",
    ");\"\"\"\n",
    "\n",
    "create_employees_table = \"\"\"CREATE TABLE Employees (\n",
    "EmployeeID INT AUTO_INCREMENT PRIMARY KEY,\n",
    "Name VARCHAR (255),\n",
    "Role VARCHAR (100),\n",
    "Address VARCHAR (255),\n",
    "Contact_Number INT,\n",
    "Email VARCHAR (255),\n",
    "Annual_Salary VARCHAR (100)\n",
    ");\"\"\"\n",
    "\n",
    "# Create MenuItems table\n",
    "cursor.execute(create_menuitem_table)\n",
    "\n",
    "# Create Menu table\n",
    "cursor.execute(create_menu_table)\n",
    "\n",
    "# Create Bookings table\n",
    "cursor.execute(Create_booking_table)\n",
    "\n",
    "# Create Orders table\n",
    "cursor.execute(create_orders_table)\n",
    "\n",
    "# Create Employees table\n",
    "cursor.execute(create_employees_table)\n"
   ]
  },
  {
   "cell_type": "markdown",
   "id": "b96684d1",
   "metadata": {},
   "source": [
    "### Populate  Tables"
   ]
  },
  {
   "cell_type": "code",
   "execution_count": 7,
   "id": "f8b966a3",
   "metadata": {},
   "outputs": [],
   "source": [
    "#*******************************************************#\n",
    "# Insert query to populate \"MenuItems\" table:\n",
    "#*******************************************************#\n",
    "insert_menuitems = \"\"\"\n",
    "INSERT INTO MenuItems (ItemID, Name, Type, Price)\n",
    "VALUES\n",
    "(1, 'Olives','Starters',5),\n",
    "(2, 'Flatbread','Starters', 5),\n",
    "(3, 'Minestrone', 'Starters', 8),\n",
    "(4, 'Tomato bread','Starters', 8),\n",
    "(5, 'Falafel', 'Starters', 7),\n",
    "(6, 'Hummus', 'Starters', 5),\n",
    "(7, 'Greek salad', 'Main Courses', 15),\n",
    "(8, 'Bean soup', 'Main Courses', 12),\n",
    "(9, 'Pizza', 'Main Courses', 15),\n",
    "(10, 'Greek yoghurt','Desserts', 7),\n",
    "(11, 'Ice cream', 'Desserts', 6),\n",
    "(12, 'Cheesecake', 'Desserts', 4),\n",
    "(13, 'Athens White wine', 'Drinks', 25),\n",
    "(14, 'Corfu Red Wine', 'Drinks', 30),\n",
    "(15, 'Turkish Coffee', 'Drinks', 10),\n",
    "(16, 'Turkish Coffee', 'Drinks', 10),\n",
    "(17, 'Kabasa', 'Main Courses', 17);\"\"\"\n",
    "\n",
    "#*******************************************************#\n",
    "# Insert query to populate \"Menu\" table:\n",
    "#*******************************************************#\n",
    "insert_menu = \"\"\"\n",
    "INSERT INTO Menus (MenuID,ItemID,Cuisine)\n",
    "VALUES\n",
    "(1, 1, 'Greek'),\n",
    "(1, 7, 'Greek'),\n",
    "(1, 10, 'Greek'),\n",
    "(1, 13, 'Greek'),\n",
    "(2, 3, 'Italian'),\n",
    "(2, 9, 'Italian'),\n",
    "(2, 12, 'Italian'),\n",
    "(2, 15, 'Italian'),\n",
    "(3, 5, 'Turkish'),\n",
    "(3, 17, 'Turkish'),\n",
    "(3, 11, 'Turkish'),\n",
    "(3, 16, 'Turkish');\"\"\"\n",
    "\n",
    "#*******************************************************#\n",
    "# Insert query to populate \"Bookings\" table:\n",
    "#*******************************************************#\n",
    "insert_bookings = \"\"\"\n",
    "INSERT INTO Bookings (BookingID, TableNo, GuestFirstName, \n",
    "GuestLastName, BookingSlot, EmployeeID)\n",
    "VALUES\n",
    "(1, 12, 'Anna','Iversen','19:00:00',1),\n",
    "(2, 12, 'Joakim', 'Iversen', '19:00:00', 1),\n",
    "(3, 19, 'Vanessa', 'McCarthy', '15:00:00', 3),\n",
    "(4, 15, 'Marcos', 'Romero', '17:30:00', 4),\n",
    "(5, 5, 'Hiroki', 'Yamane', '18:30:00', 2),\n",
    "(6, 8, 'Diana', 'Pinto', '20:00:00', 5);\"\"\"\n",
    "\n",
    "#*******************************************************#\n",
    "# Insert query to populate \"Orders\" table:\n",
    "#*******************************************************#\n",
    "insert_orders = \"\"\"\n",
    "INSERT INTO Orders (OrderID, TableNo, MenuID, BookingID, Quantity, BillAmount)\n",
    "VALUES\n",
    "(1, 12, 1, 1, 2, 86),\n",
    "(2, 19, 2, 2, 1, 37),\n",
    "(3, 15, 2, 3, 1, 37),\n",
    "(4, 5, 3, 4, 1, 40),\n",
    "(5, 8, 1, 5, 1, 43);\"\"\"\n",
    "\n",
    "#*******************************************************#\n",
    "# Insert query to populate \"Employees\" table:\n",
    "#*******************************************************#\n",
    "insert_employees = \"\"\"\n",
    "INSERT INTO Employees (EmployeeID, Name, Role, Address, Contact_Number, Email, Annual_Salary)\n",
    "VALUES\n",
    "(1,'Mario Gollini','Manager','724, Parsley Lane, Old Town, Chicago, IL',351258074,'Mario.g@littlelemon.com','$70,000'),\n",
    "(2,'Adrian Gollini','Assistant Manager','334, Dill Square, Lincoln Park, Chicago, IL',351474048,'Adrian.g@littlelemon.com','$65,000'),\n",
    "(3,'Giorgos Dioudis','Head Chef','879 Sage Street, West Loop, Chicago, IL',351970582,'Giorgos.d@littlelemon.com','$50,000'),\n",
    "(4,'Fatma Kaya','Assistant Chef','132  Bay Lane, Chicago, IL',351963569,'Fatma.k@littlelemon.com','$45,000'),\n",
    "(5,'Elena Salvai','Head Waiter','989 Thyme Square, EdgeWater, Chicago, IL',351074198,'Elena.s@littlelemon.com','$40,000'),\n",
    "(6,'John Millar','Receptionist','245 Dill Square, Lincoln Park, Chicago, IL',351584508,'John.m@littlelemon.com','$35,000');\n",
    "\"\"\"\n",
    "\n",
    "\n",
    "\n",
    "# Populate MenuItems table\n",
    "cursor.execute(insert_menuitems)\n",
    "connection.commit()\n",
    "\n",
    "# Populate MenuItems table\n",
    "cursor.execute(insert_menu)\n",
    "connection.commit()\n",
    "\n",
    "# Populate Bookings table\n",
    "cursor.execute(insert_bookings)\n",
    "connection.commit()\n",
    "\n",
    "# Populate Orders table\n",
    "cursor.execute(insert_orders)\n",
    "connection.commit()\n",
    "\n",
    "# Populate Employees table\n",
    "cursor.execute(insert_employees)\n",
    "connection.commit()"
   ]
  },
  {
   "cell_type": "markdown",
   "id": "573f1e35",
   "metadata": {},
   "source": [
    "### Connection Pool"
   ]
  },
  {
   "cell_type": "code",
   "execution_count": 8,
   "id": "3b5f5c66",
   "metadata": {},
   "outputs": [
    {
     "name": "stdout",
     "output_type": "stream",
     "text": [
      "Connection pool 'pool_a' created successfully with 2 connections.\n"
     ]
    }
   ],
   "source": [
    "from mysql.connector.pooling import MySQLConnectionPool\n",
    "from mysql.connector import Error\n",
    "\n",
    "dbconfig = {\n",
    "    \"database\": \"mediterranean_bites_db\",\n",
    "    \"user\": \"waleed\",\n",
    "    \"password\": \"Waleed@18574\"\n",
    "}\n",
    "\n",
    "try:\n",
    "    pool_a = MySQLConnectionPool(pool_name=\"pool_a\", pool_size=2, **dbconfig)\n",
    "    print(\"Connection pool 'pool_a' created successfully with 2 connections.\")\n",
    "except Error as err:\n",
    "    print(f\"Error: {err}\")\n"
   ]
  },
  {
   "cell_type": "code",
   "execution_count": 9,
   "id": "5d7e9544",
   "metadata": {},
   "outputs": [
    {
     "name": "stdout",
     "output_type": "stream",
     "text": [
      "connection_1 acquired from pool_a.\n"
     ]
    }
   ],
   "source": [
    "# Get a connection from the pool and assign it to connection_1\n",
    "connection_1 = pool_a.get_connection()\n",
    "print(\"connection_1 acquired from pool_a.\")"
   ]
  },
  {
   "cell_type": "markdown",
   "id": "37832cdc",
   "metadata": {},
   "source": [
    "## Stored Procedures"
   ]
  },
  {
   "cell_type": "markdown",
   "id": "989fad36",
   "metadata": {},
   "source": [
    "### PeakHours Stored Procedures"
   ]
  },
  {
   "cell_type": "code",
   "execution_count": 10,
   "id": "b383d5f8",
   "metadata": {},
   "outputs": [
    {
     "name": "stdout",
     "output_type": "stream",
     "text": [
      "['booking_hour', 'bookings_count']\n",
      "(19, 2)\n",
      "(15, 1)\n",
      "(17, 1)\n",
      "(18, 1)\n",
      "(20, 1)\n"
     ]
    },
    {
     "name": "stderr",
     "output_type": "stream",
     "text": [
      "/tmp/ipykernel_1594/2905342655.py:24: DeprecationWarning: Call to deprecated function stored_results. Reason: The property counterpart 'stored_results' will be added in a future release, and this method will be removed.\n",
      "  for result in cursor.stored_results():\n"
     ]
    }
   ],
   "source": [
    "# Create the PeakHours stored procedure\n",
    "peak_hours_proc = '''\n",
    "CREATE PROCEDURE PeakHours()\n",
    "BEGIN\n",
    "    SELECT HOUR(BookingSlot) AS booking_hour, COUNT(*) AS bookings_count\n",
    "    FROM Bookings\n",
    "    GROUP BY booking_hour\n",
    "    ORDER BY bookings_count DESC;\n",
    "END\n",
    "'''\n",
    "\n",
    "cursor = connection_1.cursor()\n",
    "\n",
    "# Drop the procedure if it exists\n",
    "cursor.execute(\"DROP PROCEDURE IF EXISTS PeakHours\")\n",
    "\n",
    "# Create the procedure (execute the full statement at once)\n",
    "cursor.execute(peak_hours_proc)\n",
    "\n",
    "# Call the stored procedure\n",
    "cursor.callproc('PeakHours')\n",
    "\n",
    "# Fetch results from the stored procedure using the recommended property\n",
    "for result in cursor.stored_results():\n",
    "    dataset = result.fetchall()\n",
    "    columns = [desc[0] for desc in result.description]\n",
    "    # Print column names\n",
    "    print(columns)\n",
    "    # Print data\n",
    "    for data in dataset:\n",
    "        print(data)"
   ]
  },
  {
   "cell_type": "markdown",
   "id": "e6f83aa7",
   "metadata": {},
   "source": [
    "### Alternative Method"
   ]
  },
  {
   "cell_type": "code",
   "execution_count": null,
   "id": "f0a9d378",
   "metadata": {},
   "outputs": [],
   "source": [
    "# # Create the PeakHours stored procedure\n",
    "# peak_hours_proc = '''\n",
    "# CREATE PROCEDURE PeakHours()\n",
    "# BEGIN\n",
    "#     SELECT HOUR(BookingSlot) AS booking_hour, COUNT(*) AS bookings_count\n",
    "#     FROM Bookings\n",
    "#     GROUP BY booking_hour\n",
    "#     ORDER BY bookings_count DESC;\n",
    "# END\n",
    "# '''\n",
    "\n",
    "# cursor = connection_1.cursor()\n",
    "\n",
    "# # Drop the procedure if it exists\n",
    "# cursor.execute(\"DROP PROCEDURE IF EXISTS PeakHours\")\n",
    "\n",
    "# # Create the procedure (execute the full statement at once)\n",
    "# cursor.execute(peak_hours_proc)\n",
    "\n",
    "# # Call the stored procedure\n",
    "# cursor.callproc('PeakHours')\n",
    "\n",
    "\n",
    "# # Retrieve recrods in \"dataset\"\n",
    "# results = next(cursor.stored_results() )\n",
    "# dataset = results.fetchall()\n",
    "\n",
    "# # Retrieve column names using list comprehension in a 'for' loop \n",
    "# for column_id in cursor.stored_results():\n",
    "#     columns = [ column[0] for column in column_id.description ]\n",
    "\n",
    "# # Print column names\n",
    "# print(columns)\n",
    "\n",
    "# # Print data \n",
    "# for data in dataset:\n",
    "#     print(data)\n"
   ]
  },
  {
   "cell_type": "markdown",
   "id": "750120b0",
   "metadata": {},
   "source": [
    "### GuestStatus Stored Procedure "
   ]
  },
  {
   "cell_type": "code",
   "execution_count": 12,
   "id": "ad1d51f5",
   "metadata": {},
   "outputs": [],
   "source": [
    "# Get a connection from the pool and assign it to connection_1\n",
    "# connection_2 = pool_a.get_connection()\n",
    "# print(\"connection_2 acquired from pool_a.\")"
   ]
  },
  {
   "cell_type": "code",
   "execution_count": 11,
   "id": "25559c13",
   "metadata": {},
   "outputs": [
    {
     "name": "stdout",
     "output_type": "stream",
     "text": [
      "['guest_name', 'Role', 'guest_status']\n",
      "('Anna Iversen', 'Manager', 'Ready to pay')\n",
      "('Joakim Iversen', 'Manager', 'Ready to pay')\n",
      "('Vanessa McCarthy', 'Head Chef', 'Ready to serve')\n",
      "('Marcos Romero', 'Assistant Chef', 'Preparing Order')\n",
      "('Hiroki Yamane', 'Assistant Manager', 'Ready to pay')\n",
      "('Diana Pinto', 'Head Waiter', 'Order served')\n"
     ]
    },
    {
     "name": "stderr",
     "output_type": "stream",
     "text": [
      "/tmp/ipykernel_1594/1349512882.py:32: DeprecationWarning: Call to deprecated function stored_results. Reason: The property counterpart 'stored_results' will be added in a future release, and this method will be removed.\n",
      "  for result in cursor.stored_results():\n"
     ]
    }
   ],
   "source": [
    "# Create the GuestStatus stored procedure\n",
    "guest_status_proc = '''\n",
    "CREATE PROCEDURE GuestStatus()\n",
    "BEGIN\n",
    "    SELECT \n",
    "        CONCAT(b.GuestFirstName, ' ', b.GuestLastName) AS guest_name,\n",
    "        e.Role,\n",
    "        CASE\n",
    "            WHEN e.Role = 'Manager' OR e.Role = 'Assistant Manager' THEN 'Ready to pay'\n",
    "            WHEN e.Role = 'Head Chef' THEN 'Ready to serve'\n",
    "            WHEN e.Role = 'Assistant Chef' THEN 'Preparing Order'\n",
    "            WHEN e.Role = 'Head Waiter' THEN 'Order served'\n",
    "            ELSE 'Unknown Status'\n",
    "        END AS guest_status\n",
    "    FROM Bookings b\n",
    "    LEFT JOIN Employees e ON b.EmployeeID = e.EmployeeID;\n",
    "END\n",
    "'''\n",
    "\n",
    "cursor = connection_1.cursor()\n",
    "\n",
    "# Drop the procedure if it exists\n",
    "cursor.execute(\"DROP PROCEDURE IF EXISTS GuestStatus\")\n",
    "\n",
    "# Create the procedure\n",
    "cursor.execute(guest_status_proc)\n",
    "\n",
    "# Call the stored procedure\n",
    "cursor.callproc('GuestStatus')\n",
    "\n",
    "# Fetch results from the stored procedure using the recommended property\n",
    "for result in cursor.stored_results():\n",
    "    dataset = result.fetchall()\n",
    "    columns = [desc[0] for desc in result.description]\n",
    "    # Print column names\n",
    "    print(columns)\n",
    "    # Print data\n",
    "    for data in dataset:\n",
    "        print(data)\n"
   ]
  },
  {
   "cell_type": "markdown",
   "id": "d06f6445",
   "metadata": {},
   "source": [
    "## Closing the connection"
   ]
  },
  {
   "cell_type": "code",
   "execution_count": 12,
   "id": "b5845b65",
   "metadata": {},
   "outputs": [
    {
     "name": "stdout",
     "output_type": "stream",
     "text": [
      "The cursor is closed.\n",
      "MySQL connection is closed.\n"
     ]
    }
   ],
   "source": [
    "# Let's close the cursor and the connection\n",
    "if connection_1.is_connected():\n",
    "    cursor.close()\n",
    "    print(\"The cursor is closed.\")\n",
    "    connection.close()\n",
    "    print(\"MySQL connection is closed.\")\n",
    "else:\n",
    "    print(\"Connection_1 is already closed\")"
   ]
  },
  {
   "cell_type": "code",
   "execution_count": null,
   "id": "647c1ba6",
   "metadata": {},
   "outputs": [],
   "source": []
  }
 ],
 "metadata": {
  "kernelspec": {
   "display_name": "Python 3",
   "language": "python",
   "name": "python3"
  },
  "language_info": {
   "codemirror_mode": {
    "name": "ipython",
    "version": 3
   },
   "file_extension": ".py",
   "mimetype": "text/x-python",
   "name": "python",
   "nbconvert_exporter": "python",
   "pygments_lexer": "ipython3",
   "version": "3.12.1"
  }
 },
 "nbformat": 4,
 "nbformat_minor": 5
}
